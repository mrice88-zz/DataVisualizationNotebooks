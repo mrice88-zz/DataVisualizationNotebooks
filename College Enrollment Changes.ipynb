{
 "cells": [
  {
   "cell_type": "markdown",
   "metadata": {},
   "source": [
    "# Mapping US College Enrollment Changes (2015-2017)\n",
    "Mark Rice"
   ]
  },
  {
   "cell_type": "markdown",
   "metadata": {},
   "source": [
    "This is a small notebook to show work in applying data to consumable plots. I found this dataset \"College_Enrollment.xlsx\" on data.world and thought it would be interesting to see what states are experiencing an influx of enrollment, and conversely what states are losing students. I thought it would be interesting to use a choropleth, and a color mapping that would show the changes in a sort of heatmap. -Mark"
   ]
  },
  {
   "cell_type": "code",
   "execution_count": 69,
   "metadata": {
    "collapsed": false
   },
   "outputs": [
    {
     "data": {
      "text/html": [
       "<script>requirejs.config({paths: { 'plotly': ['https://cdn.plot.ly/plotly-latest.min']},});if(!window.Plotly) {{require(['plotly'],function(plotly) {window.Plotly=plotly;});}}</script>"
      ],
      "text/vnd.plotly.v1+html": [
       "<script>requirejs.config({paths: { 'plotly': ['https://cdn.plot.ly/plotly-latest.min']},});if(!window.Plotly) {{require(['plotly'],function(plotly) {window.Plotly=plotly;});}}</script>"
      ]
     },
     "metadata": {},
     "output_type": "display_data"
    }
   ],
   "source": [
    "import pandas as pd\n",
    "import plotly.plotly as py\n",
    "import plotly.graph_objs as go \n",
    "from plotly.offline import download_plotlyjs, init_notebook_mode, plot, iplot\n",
    "\n",
    "init_notebook_mode(connected=True)"
   ]
  },
  {
   "cell_type": "markdown",
   "metadata": {},
   "source": [
    "> Just a little note, I am using plotly in offline mode here, however, I did also export this to plotly's online service @ https://plot.ly/~mrice45/3/"
   ]
  },
  {
   "cell_type": "code",
   "execution_count": 3,
   "metadata": {
    "collapsed": true
   },
   "outputs": [],
   "source": [
    "df = pd.read_excel('College_Enrollment.xlsx')"
   ]
  },
  {
   "cell_type": "markdown",
   "metadata": {},
   "source": [
    "## A little data clean up here:\n",
    "Needed to map the state abbreviations here so that plotly could plot to each state."
   ]
  },
  {
   "cell_type": "code",
   "execution_count": 12,
   "metadata": {
    "collapsed": false
   },
   "outputs": [
    {
     "data": {
      "text/html": [
       "<div>\n",
       "<table border=\"1\" class=\"dataframe\">\n",
       "  <thead>\n",
       "    <tr style=\"text-align: right;\">\n",
       "      <th></th>\n",
       "      <th>State</th>\n",
       "      <th>Spring 2017 Enrollment</th>\n",
       "      <th>Spring 2015 Enrollment</th>\n",
       "      <th>Pct_Chg_2015_2017</th>\n",
       "      <th>Code</th>\n",
       "    </tr>\n",
       "  </thead>\n",
       "  <tbody>\n",
       "    <tr>\n",
       "      <th>0</th>\n",
       "      <td>New Hampshire</td>\n",
       "      <td>146350</td>\n",
       "      <td>112819</td>\n",
       "      <td>29.721058</td>\n",
       "      <td>NH</td>\n",
       "    </tr>\n",
       "    <tr>\n",
       "      <th>1</th>\n",
       "      <td>Utah</td>\n",
       "      <td>292994</td>\n",
       "      <td>254424</td>\n",
       "      <td>15.159733</td>\n",
       "      <td>UT</td>\n",
       "    </tr>\n",
       "    <tr>\n",
       "      <th>2</th>\n",
       "      <td>Arizona</td>\n",
       "      <td>413453</td>\n",
       "      <td>389213</td>\n",
       "      <td>6.227952</td>\n",
       "      <td>AZ</td>\n",
       "    </tr>\n",
       "    <tr>\n",
       "      <th>3</th>\n",
       "      <td>Idaho</td>\n",
       "      <td>96258</td>\n",
       "      <td>90885</td>\n",
       "      <td>5.911867</td>\n",
       "      <td>ID</td>\n",
       "    </tr>\n",
       "    <tr>\n",
       "      <th>4</th>\n",
       "      <td>Texas</td>\n",
       "      <td>1394069</td>\n",
       "      <td>1343381</td>\n",
       "      <td>3.773166</td>\n",
       "      <td>TX</td>\n",
       "    </tr>\n",
       "  </tbody>\n",
       "</table>\n",
       "</div>"
      ],
      "text/plain": [
       "           State  Spring 2017 Enrollment  Spring 2015 Enrollment  \\\n",
       "0  New Hampshire                  146350                  112819   \n",
       "1           Utah                  292994                  254424   \n",
       "2        Arizona                  413453                  389213   \n",
       "3          Idaho                   96258                   90885   \n",
       "4          Texas                 1394069                 1343381   \n",
       "\n",
       "   Pct_Chg_2015_2017 Code  \n",
       "0          29.721058   NH  \n",
       "1          15.159733   UT  \n",
       "2           6.227952   AZ  \n",
       "3           5.911867   ID  \n",
       "4           3.773166   TX  "
      ]
     },
     "execution_count": 12,
     "metadata": {},
     "output_type": "execute_result"
    }
   ],
   "source": [
    "us_state_abbrev = {\n",
    "    'Alabama': 'AL',\n",
    "    'Alaska': 'AK',\n",
    "    'Arizona': 'AZ',\n",
    "    'Arkansas': 'AR',\n",
    "    'California': 'CA',\n",
    "    'Colorado': 'CO',\n",
    "    'Connecticut': 'CT',\n",
    "    'Delaware': 'DE',\n",
    "    'Florida': 'FL',\n",
    "    'Georgia': 'GA',\n",
    "    'Hawaii': 'HI',\n",
    "    'Idaho': 'ID',\n",
    "    'Illinois': 'IL',\n",
    "    'Indiana': 'IN',\n",
    "    'Iowa': 'IA',\n",
    "    'Kansas': 'KS',\n",
    "    'Kentucky': 'KY',\n",
    "    'Louisiana': 'LA',\n",
    "    'Maine': 'ME',\n",
    "    'Maryland': 'MD',\n",
    "    'Massachusetts': 'MA',\n",
    "    'Michigan': 'MI',\n",
    "    'Minnesota': 'MN',\n",
    "    'Mississippi': 'MS',\n",
    "    'Missouri': 'MO',\n",
    "    'Montana': 'MT',\n",
    "    'Nebraska': 'NE',\n",
    "    'Nevada': 'NV',\n",
    "    'New Hampshire': 'NH',\n",
    "    'New Jersey': 'NJ',\n",
    "    'New Mexico': 'NM',\n",
    "    'New York': 'NY',\n",
    "    'North Carolina': 'NC',\n",
    "    'North Dakota': 'ND',\n",
    "    'Ohio': 'OH',\n",
    "    'Oklahoma': 'OK',\n",
    "    'Oregon': 'OR',\n",
    "    'Pennsylvania': 'PA',\n",
    "    'Rhode Island': 'RI',\n",
    "    'South Carolina': 'SC',\n",
    "    'South Dakota': 'SD',\n",
    "    'Tennessee': 'TN',\n",
    "    'Texas': 'TX',\n",
    "    'Utah': 'UT',\n",
    "    'Vermont': 'VT',\n",
    "    'Virginia': 'VA',\n",
    "    'Washington': 'WA',\n",
    "    'West Virginia': 'WV',\n",
    "    'Wisconsin': 'WI',\n",
    "    'Wyoming': 'WY',\n",
    "}\n",
    "df['Code'] = df['State'].map(us_state_abbrev)\n",
    "df.head()"
   ]
  },
  {
   "cell_type": "code",
   "execution_count": 66,
   "metadata": {
    "collapsed": false
   },
   "outputs": [],
   "source": [
    "data = dict(type = 'choropleth',\n",
    "            locations = df['Code'],\n",
    "            locationmode = 'USA-states',\n",
    "            colorscale= 'Bluered',\n",
    "            reversescale = False,\n",
    "            text= df['State'],\n",
    "            z=df['Pct_Chg_2015_2017'],\n",
    "            marker = dict(line = dict(color = 'rgb(255,255,255)',width = 1)),\n",
    "            colorbar= {'title':'Enrollment Growth'})\n",
    "                 \n",
    "layout = dict(title = 'US College Enrollment Change 2015-2017',\n",
    "              geo = dict(scope='usa',\n",
    "                         showlakes = True,\n",
    "                         lakecolor = 'rgb(85,173,240)')\n",
    "             )"
   ]
  },
  {
   "cell_type": "code",
   "execution_count": 67,
   "metadata": {
    "collapsed": false
   },
   "outputs": [],
   "source": [
    "choromap = go.Figure(data = [data],layout = layout)"
   ]
  },
  {
   "cell_type": "code",
   "execution_count": 68,
   "metadata": {
    "collapsed": false
   },
   "outputs": [
    {
     "data": {
      "application/vnd.plotly.v1+json": {
       "data": [
        {
         "colorbar": {
          "title": "Enrollment Growth"
         },
         "colorscale": "Bluered",
         "locationmode": "USA-states",
         "locations": [
          "NH",
          "UT",
          "AZ",
          "ID",
          "TX",
          "VT",
          "WA",
          null,
          "WY",
          "OK",
          "AL",
          "CA",
          "GA",
          "MS",
          "NV",
          "RI",
          "IA",
          "SD",
          "MA",
          "CO",
          "KS",
          "FL",
          "ND",
          "KY",
          "NC",
          "AR",
          "MN",
          "NY",
          "OH",
          "LA",
          "SC",
          "MD",
          "TN",
          "DE",
          "ME",
          "VA",
          "NJ",
          "MT",
          "PA",
          "IN",
          "CT",
          "NM",
          "WV",
          "OR",
          "NE",
          "MO",
          "IL",
          "WI",
          "AK",
          "MI",
          "HI",
          null,
          null
         ],
         "marker": {
          "line": {
           "color": "rgb(255,255,255)",
           "width": 1
          }
         },
         "reversescale": false,
         "text": [
          "New Hampshire",
          "Utah",
          "Arizona",
          "Idaho",
          "Texas",
          "Vermont",
          "Washington",
          "District of Columbia",
          "Wyoming",
          "Oklahoma",
          "Alabama",
          "California",
          "Georgia",
          "Mississippi",
          "Nevada",
          "Rhode Island",
          "Iowa",
          "South Dakota",
          "Massachusetts",
          "Colorado",
          "Kansas",
          "Florida",
          "North Dakota",
          "Kentucky",
          "North Carolina",
          "Arkansas",
          "Minnesota",
          "New York",
          "Ohio",
          "Louisiana",
          "South Carolina",
          "Maryland",
          "Tennessee",
          "Delaware",
          "Maine",
          "Virginia",
          "New Jersey",
          "Montana",
          "Pennsylvania",
          "Indiana",
          "Connecticut",
          "New Mexico",
          "West Virginia",
          "Oregon",
          "Nebraska",
          "Missouri",
          "Illinois",
          "Wisconsin",
          "Alaska",
          "Michigan",
          "Hawaii",
          "Multi-State Institutions",
          "Total"
         ],
         "type": "choropleth",
         "z": [
          29.7210576232727,
          15.1597333584882,
          6.22795230375142,
          5.91186664466084,
          3.77316636159064,
          2.87819765278019,
          2.70475725695194,
          1.19420159694644,
          0.927542184344731,
          0.4951967063129,
          0.087488094974418,
          -0.0293315306401197,
          -0.135535440891368,
          -0.210812692600281,
          -0.246899179594852,
          -0.436584282965813,
          -0.58931337903381,
          -0.976540826064762,
          -1.15063808111771,
          -1.35581583473254,
          -1.78385278754871,
          -2.30847496180719,
          -2.31966952653321,
          -2.44351848987906,
          -2.47550000392314,
          -2.60305579030679,
          -2.86576208737698,
          -2.92189398463261,
          -2.9785986222801,
          -3.32278040311574,
          -3.54393877452338,
          -3.63485193489887,
          -3.69007447566812,
          -3.91043085971032,
          -4.08665830702059,
          -4.16805568586275,
          -4.20299356557875,
          -4.24000332875629,
          -4.7315072958076,
          -4.80321267019369,
          -4.93702823087226,
          -5.35537079813538,
          -5.42587324474235,
          -5.45202337484927,
          -5.55247341655109,
          -6.05545313477733,
          -7.1487233936358,
          -7.29226945443162,
          -7.52711976975869,
          -7.7508031098879,
          -8.80203027540972,
          -27.19804806933,
          -0.0305603608229508
         ]
        }
       ],
       "layout": {
        "geo": {
         "lakecolor": "rgb(85,173,240)",
         "scope": "usa",
         "showlakes": true
        },
        "title": "US College Enrollment Change 2015-2017"
       }
      },
      "text/html": [
       "<div id=\"7e143574-3871-424b-bee3-490c184ccff9\" style=\"height: 525px; width: 100%;\" class=\"plotly-graph-div\"></div><script type=\"text/javascript\">require([\"plotly\"], function(Plotly) { window.PLOTLYENV=window.PLOTLYENV || {};window.PLOTLYENV.BASE_URL=\"https://plot.ly\";Plotly.newPlot(\"7e143574-3871-424b-bee3-490c184ccff9\", [{\"type\": \"choropleth\", \"locations\": [\"NH\", \"UT\", \"AZ\", \"ID\", \"TX\", \"VT\", \"WA\", null, \"WY\", \"OK\", \"AL\", \"CA\", \"GA\", \"MS\", \"NV\", \"RI\", \"IA\", \"SD\", \"MA\", \"CO\", \"KS\", \"FL\", \"ND\", \"KY\", \"NC\", \"AR\", \"MN\", \"NY\", \"OH\", \"LA\", \"SC\", \"MD\", \"TN\", \"DE\", \"ME\", \"VA\", \"NJ\", \"MT\", \"PA\", \"IN\", \"CT\", \"NM\", \"WV\", \"OR\", \"NE\", \"MO\", \"IL\", \"WI\", \"AK\", \"MI\", \"HI\", null, null], \"locationmode\": \"USA-states\", \"colorscale\": \"Bluered\", \"reversescale\": false, \"text\": [\"New Hampshire\", \"Utah\", \"Arizona\", \"Idaho\", \"Texas\", \"Vermont\", \"Washington\", \"District of Columbia\", \"Wyoming\", \"Oklahoma\", \"Alabama\", \"California\", \"Georgia\", \"Mississippi\", \"Nevada\", \"Rhode Island\", \"Iowa\", \"South Dakota\", \"Massachusetts\", \"Colorado\", \"Kansas\", \"Florida\", \"North Dakota\", \"Kentucky\", \"North Carolina\", \"Arkansas\", \"Minnesota\", \"New York\", \"Ohio\", \"Louisiana\", \"South Carolina\", \"Maryland\", \"Tennessee\", \"Delaware\", \"Maine\", \"Virginia\", \"New Jersey\", \"Montana\", \"Pennsylvania\", \"Indiana\", \"Connecticut\", \"New Mexico\", \"West Virginia\", \"Oregon\", \"Nebraska\", \"Missouri\", \"Illinois\", \"Wisconsin\", \"Alaska\", \"Michigan\", \"Hawaii\", \"Multi-State Institutions\", \"Total\"], \"z\": [29.7210576232727, 15.1597333584882, 6.22795230375142, 5.91186664466084, 3.77316636159064, 2.87819765278019, 2.70475725695194, 1.19420159694644, 0.927542184344731, 0.4951967063129, 0.087488094974418, -0.0293315306401197, -0.135535440891368, -0.210812692600281, -0.246899179594852, -0.436584282965813, -0.58931337903381, -0.976540826064762, -1.15063808111771, -1.35581583473254, -1.78385278754871, -2.30847496180719, -2.31966952653321, -2.44351848987906, -2.47550000392314, -2.60305579030679, -2.86576208737698, -2.92189398463261, -2.9785986222801, -3.32278040311574, -3.54393877452338, -3.63485193489887, -3.69007447566812, -3.91043085971032, -4.08665830702059, -4.16805568586275, -4.20299356557875, -4.24000332875629, -4.7315072958076, -4.80321267019369, -4.93702823087226, -5.35537079813538, -5.42587324474235, -5.45202337484927, -5.55247341655109, -6.05545313477733, -7.1487233936358, -7.29226945443162, -7.52711976975869, -7.7508031098879, -8.80203027540972, -27.19804806933, -0.0305603608229508], \"marker\": {\"line\": {\"color\": \"rgb(255,255,255)\", \"width\": 1}}, \"colorbar\": {\"title\": \"Enrollment Growth\"}}], {\"title\": \"US College Enrollment Change 2015-2017\", \"geo\": {\"scope\": \"usa\", \"showlakes\": true, \"lakecolor\": \"rgb(85,173,240)\"}}, {\"showLink\": true, \"linkText\": \"Export to plot.ly\"})});</script>"
      ],
      "text/vnd.plotly.v1+html": [
       "<div id=\"7e143574-3871-424b-bee3-490c184ccff9\" style=\"height: 525px; width: 100%;\" class=\"plotly-graph-div\"></div><script type=\"text/javascript\">require([\"plotly\"], function(Plotly) { window.PLOTLYENV=window.PLOTLYENV || {};window.PLOTLYENV.BASE_URL=\"https://plot.ly\";Plotly.newPlot(\"7e143574-3871-424b-bee3-490c184ccff9\", [{\"type\": \"choropleth\", \"locations\": [\"NH\", \"UT\", \"AZ\", \"ID\", \"TX\", \"VT\", \"WA\", null, \"WY\", \"OK\", \"AL\", \"CA\", \"GA\", \"MS\", \"NV\", \"RI\", \"IA\", \"SD\", \"MA\", \"CO\", \"KS\", \"FL\", \"ND\", \"KY\", \"NC\", \"AR\", \"MN\", \"NY\", \"OH\", \"LA\", \"SC\", \"MD\", \"TN\", \"DE\", \"ME\", \"VA\", \"NJ\", \"MT\", \"PA\", \"IN\", \"CT\", \"NM\", \"WV\", \"OR\", \"NE\", \"MO\", \"IL\", \"WI\", \"AK\", \"MI\", \"HI\", null, null], \"locationmode\": \"USA-states\", \"colorscale\": \"Bluered\", \"reversescale\": false, \"text\": [\"New Hampshire\", \"Utah\", \"Arizona\", \"Idaho\", \"Texas\", \"Vermont\", \"Washington\", \"District of Columbia\", \"Wyoming\", \"Oklahoma\", \"Alabama\", \"California\", \"Georgia\", \"Mississippi\", \"Nevada\", \"Rhode Island\", \"Iowa\", \"South Dakota\", \"Massachusetts\", \"Colorado\", \"Kansas\", \"Florida\", \"North Dakota\", \"Kentucky\", \"North Carolina\", \"Arkansas\", \"Minnesota\", \"New York\", \"Ohio\", \"Louisiana\", \"South Carolina\", \"Maryland\", \"Tennessee\", \"Delaware\", \"Maine\", \"Virginia\", \"New Jersey\", \"Montana\", \"Pennsylvania\", \"Indiana\", \"Connecticut\", \"New Mexico\", \"West Virginia\", \"Oregon\", \"Nebraska\", \"Missouri\", \"Illinois\", \"Wisconsin\", \"Alaska\", \"Michigan\", \"Hawaii\", \"Multi-State Institutions\", \"Total\"], \"z\": [29.7210576232727, 15.1597333584882, 6.22795230375142, 5.91186664466084, 3.77316636159064, 2.87819765278019, 2.70475725695194, 1.19420159694644, 0.927542184344731, 0.4951967063129, 0.087488094974418, -0.0293315306401197, -0.135535440891368, -0.210812692600281, -0.246899179594852, -0.436584282965813, -0.58931337903381, -0.976540826064762, -1.15063808111771, -1.35581583473254, -1.78385278754871, -2.30847496180719, -2.31966952653321, -2.44351848987906, -2.47550000392314, -2.60305579030679, -2.86576208737698, -2.92189398463261, -2.9785986222801, -3.32278040311574, -3.54393877452338, -3.63485193489887, -3.69007447566812, -3.91043085971032, -4.08665830702059, -4.16805568586275, -4.20299356557875, -4.24000332875629, -4.7315072958076, -4.80321267019369, -4.93702823087226, -5.35537079813538, -5.42587324474235, -5.45202337484927, -5.55247341655109, -6.05545313477733, -7.1487233936358, -7.29226945443162, -7.52711976975869, -7.7508031098879, -8.80203027540972, -27.19804806933, -0.0305603608229508], \"marker\": {\"line\": {\"color\": \"rgb(255,255,255)\", \"width\": 1}}, \"colorbar\": {\"title\": \"Enrollment Growth\"}}], {\"title\": \"US College Enrollment Change 2015-2017\", \"geo\": {\"scope\": \"usa\", \"showlakes\": true, \"lakecolor\": \"rgb(85,173,240)\"}}, {\"showLink\": true, \"linkText\": \"Export to plot.ly\"})});</script>"
      ]
     },
     "metadata": {},
     "output_type": "display_data"
    }
   ],
   "source": [
    "iplot(choromap)"
   ]
  }
 ],
 "metadata": {
  "kernelspec": {
   "display_name": "Python 3",
   "language": "python",
   "name": "python3"
  },
  "language_info": {
   "codemirror_mode": {
    "name": "ipython",
    "version": 3
   },
   "file_extension": ".py",
   "mimetype": "text/x-python",
   "name": "python",
   "nbconvert_exporter": "python",
   "pygments_lexer": "ipython3",
   "version": "3.6.0"
  }
 },
 "nbformat": 4,
 "nbformat_minor": 2
}
